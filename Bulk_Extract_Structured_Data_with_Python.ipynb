{
  "nbformat": 4,
  "nbformat_minor": 0,
  "metadata": {
    "colab": {
      "name": "Bulk Extract Structured Data with Python",
      "provenance": [],
      "collapsed_sections": [],
      "include_colab_link": true
    },
    "kernelspec": {
      "name": "python3",
      "display_name": "Python 3"
    },
    "language_info": {
      "name": "python"
    },
    "accelerator": "GPU"
  },
  "cells": [
    {
      "cell_type": "markdown",
      "metadata": {
        "id": "view-in-github",
        "colab_type": "text"
      },
      "source": [
        "<a href=\"https://colab.research.google.com/github/simodepth/Structured-data/blob/main/Bulk_Extract_Structured_Data_with_Python.ipynb\" target=\"_parent\"><img src=\"https://colab.research.google.com/assets/colab-badge.svg\" alt=\"Open In Colab\"/></a>"
      ]
    },
    {
      "cell_type": "markdown",
      "source": [
        "#How to extract and compare structured data against competitors in bulk\n",
        "\n",
        "Structured data represent a goldmine in your technical SEO asset as a thorough and detailed implementation of schemas on valuable pages can positively impact  CTR and prompt Google to tip your webpages with 'sexy' SERP features.\n",
        "\n",
        "\n",
        "If you're looking for a quick win-win method to analyze structured data from both your website and your competitors, this script may be to your help.\n"
      ],
      "metadata": {
        "id": "5EA2pOjJyVv2"
      }
    },
    {
      "cell_type": "markdown",
      "source": [
        "#How to optimize Schema Markup ?\n",
        "\n",
        "\n",
        "🚨 **Make it simple** - write in ways that translate easily to structured data. Write your content and title tags in **[Triples](https://schemantra.com/blog/2022/05/22/structured-data-optimization-for-seo-and-for-semantic-seo/)** or `subject —> verb —> object` \n",
        "\n",
        "🚨 **Markup relevant content only** - not all the pages need a schema mark up if they are no not designed to bring additional value to the search\n",
        "\n",
        "🚨 **Mark up ONLY existing content on your page** - you don’t want to pinpoint a piece of information which is not on your page as Google may penalize your rankings\n",
        "\n",
        "🚨 **Avoid [Schema Stuffing](https://www.searchenginejournal.com/schema-stuffing-spam/449891/)** - including multiple schemas to your content may do nothing but harm if it results in misleading suggestions that the content is something other than it is\n",
        "\n",
        "🚨 **Define your primary entity using mainEntity**, and describe its relations to other entities using `URL`, `sameAs` and `About`."
      ],
      "metadata": {
        "id": "9exP-dIovly6"
      }
    },
    {
      "cell_type": "code",
      "execution_count": 1,
      "metadata": {
        "colab": {
          "base_uri": "https://localhost:8080/"
        },
        "id": "yKw27It1DzPV",
        "outputId": "14476d02-3117-4f5a-d8b2-bd6fdbd48c4a"
      },
      "outputs": [
        {
          "output_type": "stream",
          "name": "stdout",
          "text": [
            "Looking in indexes: https://pypi.org/simple, https://us-python.pkg.dev/colab-wheels/public/simple/\n",
            "Collecting extruct\n",
            "  Downloading extruct-0.13.0-py2.py3-none-any.whl (25 kB)\n",
            "Collecting jstyleson\n",
            "  Downloading jstyleson-0.0.2.tar.gz (2.0 kB)\n",
            "Collecting mf2py\n",
            "  Downloading mf2py-1.1.2.tar.gz (25 kB)\n",
            "Collecting rdflib-jsonld\n",
            "  Downloading rdflib_jsonld-0.6.2-py2.py3-none-any.whl (4.0 kB)\n",
            "Collecting w3lib\n",
            "  Downloading w3lib-1.22.0-py2.py3-none-any.whl (20 kB)\n",
            "Collecting rdflib\n",
            "  Downloading rdflib-6.2.0-py3-none-any.whl (500 kB)\n",
            "\u001b[K     |████████████████████████████████| 500 kB 48.3 MB/s \n",
            "\u001b[?25hRequirement already satisfied: lxml in /usr/local/lib/python3.7/dist-packages (from extruct) (4.2.6)\n",
            "Collecting pyrdfa3\n",
            "  Downloading pyRdfa3-3.5.3-py3-none-any.whl (121 kB)\n",
            "\u001b[K     |████████████████████████████████| 121 kB 70.9 MB/s \n",
            "\u001b[?25hRequirement already satisfied: six in /usr/local/lib/python3.7/dist-packages (from extruct) (1.15.0)\n",
            "Collecting html-text>=0.5.1\n",
            "  Downloading html_text-0.5.2-py2.py3-none-any.whl (7.5 kB)\n",
            "Requirement already satisfied: html5lib>=1.0.1 in /usr/local/lib/python3.7/dist-packages (from mf2py->extruct) (1.0.1)\n",
            "Requirement already satisfied: requests>=2.18.4 in /usr/local/lib/python3.7/dist-packages (from mf2py->extruct) (2.23.0)\n",
            "Requirement already satisfied: BeautifulSoup4>=4.6.0 in /usr/local/lib/python3.7/dist-packages (from mf2py->extruct) (4.6.3)\n",
            "Requirement already satisfied: webencodings in /usr/local/lib/python3.7/dist-packages (from html5lib>=1.0.1->mf2py->extruct) (0.5.1)\n",
            "Requirement already satisfied: chardet<4,>=3.0.2 in /usr/local/lib/python3.7/dist-packages (from requests>=2.18.4->mf2py->extruct) (3.0.4)\n",
            "Requirement already satisfied: urllib3!=1.25.0,!=1.25.1,<1.26,>=1.21.1 in /usr/local/lib/python3.7/dist-packages (from requests>=2.18.4->mf2py->extruct) (1.24.3)\n",
            "Requirement already satisfied: certifi>=2017.4.17 in /usr/local/lib/python3.7/dist-packages (from requests>=2.18.4->mf2py->extruct) (2022.6.15)\n",
            "Requirement already satisfied: idna<3,>=2.5 in /usr/local/lib/python3.7/dist-packages (from requests>=2.18.4->mf2py->extruct) (2.10)\n",
            "Requirement already satisfied: pyparsing in /usr/local/lib/python3.7/dist-packages (from rdflib->extruct) (3.0.9)\n",
            "Requirement already satisfied: importlib-metadata in /usr/local/lib/python3.7/dist-packages (from rdflib->extruct) (4.12.0)\n",
            "Collecting isodate\n",
            "  Downloading isodate-0.6.1-py2.py3-none-any.whl (41 kB)\n",
            "\u001b[K     |████████████████████████████████| 41 kB 636 kB/s \n",
            "\u001b[?25hRequirement already satisfied: setuptools in /usr/local/lib/python3.7/dist-packages (from rdflib->extruct) (57.4.0)\n",
            "Requirement already satisfied: typing-extensions>=3.6.4 in /usr/local/lib/python3.7/dist-packages (from importlib-metadata->rdflib->extruct) (4.1.1)\n",
            "Requirement already satisfied: zipp>=0.5 in /usr/local/lib/python3.7/dist-packages (from importlib-metadata->rdflib->extruct) (3.8.1)\n",
            "Building wheels for collected packages: jstyleson, mf2py\n",
            "  Building wheel for jstyleson (setup.py) ... \u001b[?25l\u001b[?25hdone\n",
            "  Created wheel for jstyleson: filename=jstyleson-0.0.2-py3-none-any.whl size=2402 sha256=7f06356985dbf655184e5064ec25cc77af426ac05b9cb0eba0aead24c8294e54\n",
            "  Stored in directory: /root/.cache/pip/wheels/be/8e/03/d5962b9032cc1b638d1891a3bfbfdc6627cac531754f79ef23\n",
            "  Building wheel for mf2py (setup.py) ... \u001b[?25l\u001b[?25hdone\n",
            "  Created wheel for mf2py: filename=mf2py-1.1.2-py3-none-any.whl size=23244 sha256=a1d3e078df92e23ea102435f4239e92698996bf3c319bc0df9a83ed0947d8314\n",
            "  Stored in directory: /root/.cache/pip/wheels/d9/47/72/d1f19d30e8dd2c06e7084d93ea90ab5ec60c6db488398c67db\n",
            "Successfully built jstyleson mf2py\n",
            "Installing collected packages: isodate, rdflib, w3lib, rdflib-jsonld, pyrdfa3, mf2py, jstyleson, html-text, extruct\n",
            "Successfully installed extruct-0.13.0 html-text-0.5.2 isodate-0.6.1 jstyleson-0.0.2 mf2py-1.1.2 pyrdfa3-3.5.3 rdflib-6.2.0 rdflib-jsonld-0.6.2 w3lib-1.22.0\n",
            "Looking in indexes: https://pypi.org/simple, https://us-python.pkg.dev/colab-wheels/public/simple/\n",
            "\u001b[31mERROR: Could not find a version that satisfies the requirement w3lib.htmml (from versions: none)\u001b[0m\n",
            "\u001b[31mERROR: No matching distribution found for w3lib.htmml\u001b[0m\n"
          ]
        }
      ],
      "source": [
        "#@title Install Modules\n",
        "!pip install extruct\n",
        "!pip install w3lib.htmml"
      ]
    },
    {
      "cell_type": "code",
      "source": [
        "#@title Import Modules\n",
        "import pandas as pd\n",
        "import extruct\n",
        "import requests\n",
        "from w3lib.html import get_base_url\n",
        "from urllib.parse import urlparse"
      ],
      "metadata": {
        "id": "C_8u5ZzME27M"
      },
      "execution_count": 2,
      "outputs": []
    },
    {
      "cell_type": "markdown",
      "source": [
        "#Have an unlimited list of competing URLs to scrape"
      ],
      "metadata": {
        "id": "1ZoSva08Lf_q"
      }
    },
    {
      "cell_type": "code",
      "source": [
        "sites = ['https://www.morrisons.com/help/', \n",
        "'https://groceries.morrisons.com/products/pukka-steak-slice-569177011',\n",
        "'https://www.morrisons-corporate.com/about-us/',\n",
        "'https://groceries.morrisons.com/webshop/bundle/breaded-chicken-salad-wrap-bundle/1006702395',\n",
        "'https://groceries.morrisons.com/',\n",
        "'https://groceries.morrisons.com/content/recipes-by-morrisons-33805?clkInTab=Recipes',\n",
        "'https://groceries.morrisons.com/on-offer',\n",
        "'https://my.morrisons.com/storefinder/'\n",
        "'https://www.morrisons.jobs/'\n",
        "]\n",
        "         "
      ],
      "metadata": {
        "id": "ux4y9nk2EYca"
      },
      "execution_count": 3,
      "outputs": []
    },
    {
      "cell_type": "markdown",
      "source": [
        "#Extract the metadata for one sample page"
      ],
      "metadata": {
        "id": "H3CLZXY9L-Eb"
      }
    },
    {
      "cell_type": "code",
      "source": [
        "def extract_metadata(url):\n",
        "\n",
        "    r = requests.get(url)\n",
        "    base_url = get_base_url(r.text, r.url)\n",
        "    metadata = extruct.extract(r.text, \n",
        "                               base_url=base_url,\n",
        "                               uniform=True,\n",
        "                               syntaxes=['json-ld',\n",
        "                                         'microdata',\n",
        "                                         'opengraph',\n",
        "                                         'rdfa'])\n",
        "    return metadata"
      ],
      "metadata": {
        "id": "U45YuJ9xGYrR"
      },
      "execution_count": 4,
      "outputs": []
    },
    {
      "cell_type": "code",
      "source": [
        "metadata = extract_metadata('https://www.morrisons-corporate.com/about-us/')\n",
        "metadata"
      ],
      "metadata": {
        "colab": {
          "base_uri": "https://localhost:8080/"
        },
        "id": "iQk05XoXGaMI",
        "outputId": "acc3d74b-6750-4638-f8be-7c41e497df20"
      },
      "execution_count": 5,
      "outputs": [
        {
          "output_type": "execute_result",
          "data": {
            "text/plain": [
              "{'json-ld': [],\n",
              " 'microdata': [{'@context': 'http://schema.org',\n",
              "   '@type': 'WebPage',\n",
              "   'value': \"About Us\\nStrategy Company History Board Members' Biographies Anti Corruption Property Group Tax Strategy Hong Kong Office Whistleblowing Statement\\nInvestor Centre\\nAnnual Report Financial Reports Shareholder Information Presentations Investor Contacts Register for Morrisons Q2 results call\\nSustainability\\nPurpose Planet People Policies Performance Ethical Trading\\nMedia Centre\\nCorporate News News Archive\\nSuppliers\\nSupplying Morrisons Supplier Information GSCOP - Contact details and information for suppliers\\nhome About Us expand_more\\n\\nAbout Us From a Bradford market stall to the UK’s 4th largest supermarket chain\\n\\nLeadership Meet the board\\n\\narrow_forward\\n\\nLearn more about our history and key milestones More information\\n\\narrow_forward\\n\\nVisit our section dedicated to investors Read more\\n\\narrow_forward\\n\\nLatest News\\n\\nMorrisons unveils new ‘My Morrisons’ app\\n\\n07 July 2022 share\\nShare to:\\nemail\\nlink close\\n\\nMorrisons Launches Lower Environmental Impact Store\\n\\n07 July 2022 share\\nShare to:\\nemail\\nlink close\\n\\nMorrisons update on Q2 trading\\n\\n29 June 2022 share\\nShare to:\\nemail\\nlink close\"}],\n",
              " 'opengraph': [{'@context': {'og': 'http://ogp.me/ns#'},\n",
              "   '@type': 'website',\n",
              "   'og:description': 'From a Bradford market stall to the UK’s 4th largest supermarket chain view more about our companies history.',\n",
              "   'og:image': 'https://www.morrisons-corporate.com/Static/images/Morrisons-Logo-Desktop.jpg',\n",
              "   'og:locale': 'en_GB',\n",
              "   'og:site_name': 'Morrisons',\n",
              "   'og:title': 'About Us - Morrisons Corporate',\n",
              "   'og:url': 'https://www.morrisons-corporate.com/about-us/'}],\n",
              " 'rdfa': [{'@id': 'https://www.morrisons-corporate.com/about-us/',\n",
              "   'http://ogp.me/ns#description': [{'@value': 'From a Bradford market stall to the UK’s 4th largest supermarket chain view more about our companies history.'}],\n",
              "   'http://ogp.me/ns#image': [{'@value': 'https://www.morrisons-corporate.com/Static/images/Morrisons-Logo-Desktop.jpg'}],\n",
              "   'http://ogp.me/ns#locale': [{'@value': 'en_GB'}],\n",
              "   'http://ogp.me/ns#site_name': [{'@value': 'Morrisons'}],\n",
              "   'http://ogp.me/ns#title': [{'@value': 'About Us - Morrisons Corporate'}],\n",
              "   'http://ogp.me/ns#type': [{'@value': 'website'}],\n",
              "   'http://ogp.me/ns#url': [{'@value': 'https://www.morrisons-corporate.com/about-us/'}]}]}"
            ]
          },
          "metadata": {},
          "execution_count": 5
        }
      ]
    },
    {
      "cell_type": "markdown",
      "source": [
        "#Investigate whether the URL is using a specific metadata type"
      ],
      "metadata": {
        "id": "Izbmi8wCMIXC"
      }
    },
    {
      "cell_type": "code",
      "source": [
        "def uses_metadata_type(metadata, metadata_type):\n",
        "    if (metadata_type in metadata.keys()) and (len(metadata[metadata_type]) > 0):\n",
        "        return True\n",
        "    else:\n",
        "        return False"
      ],
      "metadata": {
        "id": "V75aUeHuG5-x"
      },
      "execution_count": 6,
      "outputs": []
    },
    {
      "cell_type": "code",
      "source": [
        "uses_metadata_type(metadata, 'opengraph')"
      ],
      "metadata": {
        "colab": {
          "base_uri": "https://localhost:8080/"
        },
        "id": "c7oGKUReG-xk",
        "outputId": "6250533f-0a7d-4213-f99f-001b9a99beab"
      },
      "execution_count": 7,
      "outputs": [
        {
          "output_type": "execute_result",
          "data": {
            "text/plain": [
              "True"
            ]
          },
          "metadata": {},
          "execution_count": 7
        }
      ]
    },
    {
      "cell_type": "code",
      "source": [
        "uses_metadata_type(metadata, 'rdfa')"
      ],
      "metadata": {
        "colab": {
          "base_uri": "https://localhost:8080/"
        },
        "id": "jRUgW33eHDWR",
        "outputId": "d393ecc4-e103-486f-d4f8-b51a3d42b7ea"
      },
      "execution_count": 8,
      "outputs": [
        {
          "output_type": "execute_result",
          "data": {
            "text/plain": [
              "True"
            ]
          },
          "metadata": {},
          "execution_count": 8
        }
      ]
    },
    {
      "cell_type": "code",
      "source": [
        "uses_metadata_type(metadata, 'json-ld')"
      ],
      "metadata": {
        "colab": {
          "base_uri": "https://localhost:8080/"
        },
        "id": "Wog5AqAMBB1e",
        "outputId": "abd097c5-b863-46e6-c9ba-de92229d6268"
      },
      "execution_count": 9,
      "outputs": [
        {
          "output_type": "execute_result",
          "data": {
            "text/plain": [
              "False"
            ]
          },
          "metadata": {},
          "execution_count": 9
        }
      ]
    },
    {
      "cell_type": "code",
      "source": [
        "uses_metadata_type(metadata, 'microdata')"
      ],
      "metadata": {
        "colab": {
          "base_uri": "https://localhost:8080/"
        },
        "id": "74mWGJrdBHyi",
        "outputId": "36a23018-3adf-46ca-ca7b-9e520c882db5"
      },
      "execution_count": 10,
      "outputs": [
        {
          "output_type": "execute_result",
          "data": {
            "text/plain": [
              "True"
            ]
          },
          "metadata": {},
          "execution_count": 10
        }
      ]
    },
    {
      "cell_type": "code",
      "source": [
        "#@title Extract metadata usage for each site\n",
        "df = pd.DataFrame(columns = ['url', 'microdata', 'json-ld', 'opengraph', 'rdfa'])\n",
        "\n",
        "for url in sites:    \n",
        "    metadata = extract_metadata(url)\n",
        "    urldata = urlparse(url)\n",
        "\n",
        "    row = {\n",
        "        'url': urldata.netloc + urldata.path, \n",
        "        'microdata': uses_metadata_type(metadata, 'microdata'),\n",
        "        'json-ld': uses_metadata_type(metadata, 'json-ld'),\n",
        "        'opengraph': uses_metadata_type(metadata, 'opengraph'),\n",
        "        'rdfa': uses_metadata_type(metadata, 'rdfa')              \n",
        "    }\n",
        "\n",
        "    df = df.append(row, ignore_index=True)\n",
        "\n",
        "df.head(10).sort_values(by='microdata', ascending=False)"
      ],
      "metadata": {
        "colab": {
          "base_uri": "https://localhost:8080/",
          "height": 300
        },
        "id": "PCWWngt0HEu0",
        "outputId": "efe6f5eb-b4a4-4c7f-9e91-ab1d9c2ed4f9"
      },
      "execution_count": 12,
      "outputs": [
        {
          "output_type": "execute_result",
          "data": {
            "text/plain": [
              "                                                 url microdata json-ld  \\\n",
              "2              www.morrisons-corporate.com/about-us/      True   False   \n",
              "0                            www.morrisons.com/help/     False   False   \n",
              "1  groceries.morrisons.com/products/pukka-steak-s...     False   False   \n",
              "3  groceries.morrisons.com/webshop/bundle/breaded...     False   False   \n",
              "4                           groceries.morrisons.com/     False   False   \n",
              "5  groceries.morrisons.com/content/recipes-by-mor...     False   False   \n",
              "6                   groceries.morrisons.com/on-offer     False   False   \n",
              "7  my.morrisons.com/storefinder/https://www.morri...     False   False   \n",
              "\n",
              "  opengraph   rdfa  \n",
              "2      True   True  \n",
              "0     False  False  \n",
              "1      True   True  \n",
              "3     False  False  \n",
              "4     False   True  \n",
              "5     False   True  \n",
              "6     False   True  \n",
              "7     False  False  "
            ],
            "text/html": [
              "\n",
              "  <div id=\"df-f92b76c1-1ad1-44b1-a7dd-9e66db1a1667\">\n",
              "    <div class=\"colab-df-container\">\n",
              "      <div>\n",
              "<style scoped>\n",
              "    .dataframe tbody tr th:only-of-type {\n",
              "        vertical-align: middle;\n",
              "    }\n",
              "\n",
              "    .dataframe tbody tr th {\n",
              "        vertical-align: top;\n",
              "    }\n",
              "\n",
              "    .dataframe thead th {\n",
              "        text-align: right;\n",
              "    }\n",
              "</style>\n",
              "<table border=\"1\" class=\"dataframe\">\n",
              "  <thead>\n",
              "    <tr style=\"text-align: right;\">\n",
              "      <th></th>\n",
              "      <th>url</th>\n",
              "      <th>microdata</th>\n",
              "      <th>json-ld</th>\n",
              "      <th>opengraph</th>\n",
              "      <th>rdfa</th>\n",
              "    </tr>\n",
              "  </thead>\n",
              "  <tbody>\n",
              "    <tr>\n",
              "      <th>2</th>\n",
              "      <td>www.morrisons-corporate.com/about-us/</td>\n",
              "      <td>True</td>\n",
              "      <td>False</td>\n",
              "      <td>True</td>\n",
              "      <td>True</td>\n",
              "    </tr>\n",
              "    <tr>\n",
              "      <th>0</th>\n",
              "      <td>www.morrisons.com/help/</td>\n",
              "      <td>False</td>\n",
              "      <td>False</td>\n",
              "      <td>False</td>\n",
              "      <td>False</td>\n",
              "    </tr>\n",
              "    <tr>\n",
              "      <th>1</th>\n",
              "      <td>groceries.morrisons.com/products/pukka-steak-s...</td>\n",
              "      <td>False</td>\n",
              "      <td>False</td>\n",
              "      <td>True</td>\n",
              "      <td>True</td>\n",
              "    </tr>\n",
              "    <tr>\n",
              "      <th>3</th>\n",
              "      <td>groceries.morrisons.com/webshop/bundle/breaded...</td>\n",
              "      <td>False</td>\n",
              "      <td>False</td>\n",
              "      <td>False</td>\n",
              "      <td>False</td>\n",
              "    </tr>\n",
              "    <tr>\n",
              "      <th>4</th>\n",
              "      <td>groceries.morrisons.com/</td>\n",
              "      <td>False</td>\n",
              "      <td>False</td>\n",
              "      <td>False</td>\n",
              "      <td>True</td>\n",
              "    </tr>\n",
              "    <tr>\n",
              "      <th>5</th>\n",
              "      <td>groceries.morrisons.com/content/recipes-by-mor...</td>\n",
              "      <td>False</td>\n",
              "      <td>False</td>\n",
              "      <td>False</td>\n",
              "      <td>True</td>\n",
              "    </tr>\n",
              "    <tr>\n",
              "      <th>6</th>\n",
              "      <td>groceries.morrisons.com/on-offer</td>\n",
              "      <td>False</td>\n",
              "      <td>False</td>\n",
              "      <td>False</td>\n",
              "      <td>True</td>\n",
              "    </tr>\n",
              "    <tr>\n",
              "      <th>7</th>\n",
              "      <td>my.morrisons.com/storefinder/https://www.morri...</td>\n",
              "      <td>False</td>\n",
              "      <td>False</td>\n",
              "      <td>False</td>\n",
              "      <td>False</td>\n",
              "    </tr>\n",
              "  </tbody>\n",
              "</table>\n",
              "</div>\n",
              "      <button class=\"colab-df-convert\" onclick=\"convertToInteractive('df-f92b76c1-1ad1-44b1-a7dd-9e66db1a1667')\"\n",
              "              title=\"Convert this dataframe to an interactive table.\"\n",
              "              style=\"display:none;\">\n",
              "        \n",
              "  <svg xmlns=\"http://www.w3.org/2000/svg\" height=\"24px\"viewBox=\"0 0 24 24\"\n",
              "       width=\"24px\">\n",
              "    <path d=\"M0 0h24v24H0V0z\" fill=\"none\"/>\n",
              "    <path d=\"M18.56 5.44l.94 2.06.94-2.06 2.06-.94-2.06-.94-.94-2.06-.94 2.06-2.06.94zm-11 1L8.5 8.5l.94-2.06 2.06-.94-2.06-.94L8.5 2.5l-.94 2.06-2.06.94zm10 10l.94 2.06.94-2.06 2.06-.94-2.06-.94-.94-2.06-.94 2.06-2.06.94z\"/><path d=\"M17.41 7.96l-1.37-1.37c-.4-.4-.92-.59-1.43-.59-.52 0-1.04.2-1.43.59L10.3 9.45l-7.72 7.72c-.78.78-.78 2.05 0 2.83L4 21.41c.39.39.9.59 1.41.59.51 0 1.02-.2 1.41-.59l7.78-7.78 2.81-2.81c.8-.78.8-2.07 0-2.86zM5.41 20L4 18.59l7.72-7.72 1.47 1.35L5.41 20z\"/>\n",
              "  </svg>\n",
              "      </button>\n",
              "      \n",
              "  <style>\n",
              "    .colab-df-container {\n",
              "      display:flex;\n",
              "      flex-wrap:wrap;\n",
              "      gap: 12px;\n",
              "    }\n",
              "\n",
              "    .colab-df-convert {\n",
              "      background-color: #E8F0FE;\n",
              "      border: none;\n",
              "      border-radius: 50%;\n",
              "      cursor: pointer;\n",
              "      display: none;\n",
              "      fill: #1967D2;\n",
              "      height: 32px;\n",
              "      padding: 0 0 0 0;\n",
              "      width: 32px;\n",
              "    }\n",
              "\n",
              "    .colab-df-convert:hover {\n",
              "      background-color: #E2EBFA;\n",
              "      box-shadow: 0px 1px 2px rgba(60, 64, 67, 0.3), 0px 1px 3px 1px rgba(60, 64, 67, 0.15);\n",
              "      fill: #174EA6;\n",
              "    }\n",
              "\n",
              "    [theme=dark] .colab-df-convert {\n",
              "      background-color: #3B4455;\n",
              "      fill: #D2E3FC;\n",
              "    }\n",
              "\n",
              "    [theme=dark] .colab-df-convert:hover {\n",
              "      background-color: #434B5C;\n",
              "      box-shadow: 0px 1px 3px 1px rgba(0, 0, 0, 0.15);\n",
              "      filter: drop-shadow(0px 1px 2px rgba(0, 0, 0, 0.3));\n",
              "      fill: #FFFFFF;\n",
              "    }\n",
              "  </style>\n",
              "\n",
              "      <script>\n",
              "        const buttonEl =\n",
              "          document.querySelector('#df-f92b76c1-1ad1-44b1-a7dd-9e66db1a1667 button.colab-df-convert');\n",
              "        buttonEl.style.display =\n",
              "          google.colab.kernel.accessAllowed ? 'block' : 'none';\n",
              "\n",
              "        async function convertToInteractive(key) {\n",
              "          const element = document.querySelector('#df-f92b76c1-1ad1-44b1-a7dd-9e66db1a1667');\n",
              "          const dataTable =\n",
              "            await google.colab.kernel.invokeFunction('convertToInteractive',\n",
              "                                                     [key], {});\n",
              "          if (!dataTable) return;\n",
              "\n",
              "          const docLinkHtml = 'Like what you see? Visit the ' +\n",
              "            '<a target=\"_blank\" href=https://colab.research.google.com/notebooks/data_table.ipynb>data table notebook</a>'\n",
              "            + ' to learn more about interactive tables.';\n",
              "          element.innerHTML = '';\n",
              "          dataTable['output_type'] = 'display_data';\n",
              "          await google.colab.output.renderOutput(dataTable, element);\n",
              "          const docLink = document.createElement('div');\n",
              "          docLink.innerHTML = docLinkHtml;\n",
              "          element.appendChild(docLink);\n",
              "        }\n",
              "      </script>\n",
              "    </div>\n",
              "  </div>\n",
              "  "
            ]
          },
          "metadata": {},
          "execution_count": 12
        }
      ]
    },
    {
      "cell_type": "markdown",
      "source": [
        "#Examine the specific metadata used"
      ],
      "metadata": {
        "id": "7XDXxfhBIBSs"
      }
    },
    {
      "cell_type": "code",
      "source": [
        "def key_exists(dict, key):\n",
        "\n",
        "    if not any(item['@type'] == key for item in dict):\n",
        "        return False\n",
        "    else:\n",
        "        return True   "
      ],
      "metadata": {
        "id": "T73RJzAnIF7R"
      },
      "execution_count": 13,
      "outputs": []
    },
    {
      "cell_type": "markdown",
      "source": [
        "#Scrape specific metadata usage per site\n",
        "\n",
        "\n",
        "---\n",
        "We’re looping over the URLs, scraping the HTML, extracting the metadata, and then checking each key to see whether it is implemented by a given metadata type."
      ],
      "metadata": {
        "id": "x6hXt3jOJnAF"
      }
    },
    {
      "cell_type": "code",
      "source": [
        "metadata = extract_metadata('https://groceries.morrisons.com/')\n",
        "metadata"
      ],
      "metadata": {
        "colab": {
          "base_uri": "https://localhost:8080/"
        },
        "id": "Z5UcSfa3ILnE",
        "outputId": "cfcecece-024d-4072-cff1-fbdac9f7d3ed"
      },
      "execution_count": 14,
      "outputs": [
        {
          "output_type": "execute_result",
          "data": {
            "text/plain": [
              "{'json-ld': [],\n",
              " 'microdata': [],\n",
              " 'opengraph': [],\n",
              " 'rdfa': [{'@id': 'https://groceries.morrisons.com/webshop/startWebshop.do#clohp-carousel__slide114017',\n",
              "   'http://www.w3.org/1999/xhtml/vocab#role': [{'@id': 'http://www.w3.org/1999/xhtml/vocab#tabpanel'}]},\n",
              "  {'@id': 'https://groceries.morrisons.com/webshop/startWebshop.do#clohp-carousel__navItem113536',\n",
              "   'http://www.w3.org/1999/xhtml/vocab#role': [{'@id': 'http://www.w3.org/1999/xhtml/vocab#tab'}]},\n",
              "  {'@id': 'https://groceries.morrisons.com/webshop/startWebshop.do#clohp-carousel__navItem114017',\n",
              "   'http://www.w3.org/1999/xhtml/vocab#role': [{'@id': 'http://www.w3.org/1999/xhtml/vocab#tab'}]},\n",
              "  {'@id': 'https://groceries.morrisons.com/webshop/startWebshop.do#clohp-carousel__navItem113625',\n",
              "   'http://www.w3.org/1999/xhtml/vocab#role': [{'@id': 'http://www.w3.org/1999/xhtml/vocab#tab'}]},\n",
              "  {'@id': '_:N3ca5290d50e745cd8f58417dce6603e3',\n",
              "   'http://www.w3.org/1999/xhtml/vocab#role': [{'@id': 'http://www.w3.org/1999/xhtml/vocab#button'}]},\n",
              "  {'@id': '_:N3636e3aaa2ff46f9861f404a7599de09',\n",
              "   'http://www.w3.org/1999/xhtml/vocab#role': [{'@id': 'http://www.w3.org/1999/xhtml/vocab#tablist'}]},\n",
              "  {'@id': '_:Nfb0dbdaa2da847189053f5ce912007a9',\n",
              "   'http://www.w3.org/1999/xhtml/vocab#role': [{'@id': 'http://www.w3.org/1999/xhtml/vocab#button'}]},\n",
              "  {'@id': 'https://groceries.morrisons.com/webshop/startWebshop.do#clohp-carousel__slide113707',\n",
              "   'http://www.w3.org/1999/xhtml/vocab#role': [{'@id': 'http://www.w3.org/1999/xhtml/vocab#tabpanel'}]},\n",
              "  {'@id': 'https://groceries.morrisons.com/webshop/startWebshop.do#clohp-carousel__slide105187',\n",
              "   'http://www.w3.org/1999/xhtml/vocab#role': [{'@id': 'http://www.w3.org/1999/xhtml/vocab#tabpanel'}]},\n",
              "  {'@id': 'https://groceries.morrisons.com/webshop/startWebshop.do#clohp-carousel__slide114116',\n",
              "   'http://www.w3.org/1999/xhtml/vocab#role': [{'@id': 'http://www.w3.org/1999/xhtml/vocab#tabpanel'}]},\n",
              "  {'@id': '_:Na8598461e0c9451fbacebfa8dde773f0',\n",
              "   'http://www.w3.org/1999/xhtml/vocab#role': [{'@id': 'http://www.w3.org/1999/xhtml/vocab#button'}]},\n",
              "  {'@id': 'https://groceries.morrisons.com/webshop/startWebshop.do#clohp-carousel__navItem113707',\n",
              "   'http://www.w3.org/1999/xhtml/vocab#role': [{'@id': 'http://www.w3.org/1999/xhtml/vocab#tab'}]},\n",
              "  {'@id': '_:N8682b610784f401ab62b3a6075df25bf',\n",
              "   'http://www.w3.org/1999/xhtml/vocab#role': [{'@id': 'http://www.w3.org/1999/xhtml/vocab#button'}]},\n",
              "  {'@id': '_:N62afed10d45b4f66904804eb22eae32c',\n",
              "   'http://www.w3.org/1999/xhtml/vocab#role': [{'@id': 'http://www.w3.org/1999/xhtml/vocab#button'}]},\n",
              "  {'@id': '_:Neab26154b3024d719504341ff3c0b6cd',\n",
              "   'http://www.w3.org/1999/xhtml/vocab#role': [{'@id': 'http://www.w3.org/1999/xhtml/vocab#button'}]},\n",
              "  {'@id': '_:N26d50d3ba66e46f4b7a4abaf426dc874',\n",
              "   'http://www.w3.org/1999/xhtml/vocab#role': [{'@id': 'http://www.w3.org/1999/xhtml/vocab#button'}]},\n",
              "  {'@id': 'https://groceries.morrisons.com/webshop/startWebshop.do#clohp-carousel__slide113625',\n",
              "   'http://www.w3.org/1999/xhtml/vocab#role': [{'@id': 'http://www.w3.org/1999/xhtml/vocab#tabpanel'}]},\n",
              "  {'@id': 'https://groceries.morrisons.com/webshop/startWebshop.do#clohp-carousel__slide113536',\n",
              "   'http://www.w3.org/1999/xhtml/vocab#role': [{'@id': 'http://www.w3.org/1999/xhtml/vocab#tabpanel'}]},\n",
              "  {'@id': 'https://groceries.morrisons.com/webshop/startWebshop.do#clohp-carousel__navItem105187',\n",
              "   'http://www.w3.org/1999/xhtml/vocab#role': [{'@id': 'http://www.w3.org/1999/xhtml/vocab#tab'}]},\n",
              "  {'@id': 'https://groceries.morrisons.com/webshop/startWebshop.do#clohp-carousel__navItem114116',\n",
              "   'http://www.w3.org/1999/xhtml/vocab#role': [{'@id': 'http://www.w3.org/1999/xhtml/vocab#tab'}]}]}"
            ]
          },
          "metadata": {},
          "execution_count": 14
        }
      ]
    },
    {
      "cell_type": "code",
      "source": [
        "df_specific = pd.DataFrame(columns = ['url-path', \n",
        "                                      'organization-json-ld', \n",
        "                                      'organization-microdata',                                   \n",
        "                                      'product-json-ld', \n",
        "                                      'product-microdata',                  \n",
        "                                      'offer-json-ld', \n",
        "                                      'offer-microdata',     \n",
        "                                      'review-json-ld', \n",
        "                                      'review-microdata',   \n",
        "                                      'aggregaterating-json-ld', \n",
        "                                      'aggregaterating-microdata',   \n",
        "                                      'breadcrumblist-json-ld', \n",
        "                                      'breadcrumblist-microdata',            \n",
        "                                     ])\n",
        "\n",
        "for url in sites:    \n",
        "    metadata = extract_metadata(url)\n",
        "    urldata = urlparse(url)\n",
        "\n",
        "\n",
        "    row = {\n",
        "        'url-path': urldata.netloc + urldata.path, \n",
        "        'organization-json-ld': key_exists(metadata['json-ld'], 'Organization'),\n",
        "        'organization-microdata': key_exists(metadata['microdata'], 'Organization'),\n",
        "        'product-json-ld': key_exists(metadata['json-ld'], 'Product'),\n",
        "        'product-microdata': key_exists(metadata['microdata'], 'Product'),\n",
        "        'offer-json-ld': key_exists(metadata['json-ld'], 'Offer'),\n",
        "        'offer-microdata': key_exists(metadata['microdata'], 'Offer'),\n",
        "        'review-json-ld': key_exists(metadata['json-ld'], 'Review'),\n",
        "        'review-microdata': key_exists(metadata['microdata'], 'Review'),\n",
        "        'aggregaterating-json-ld': key_exists(metadata['json-ld'], 'AggregateRating'),\n",
        "        'aggregaterating-microdata': key_exists(metadata['microdata'], 'AggregateRating'),\n",
        "        'breadcrumblist-json-ld': key_exists(metadata['json-ld'], 'BreadcrumbList'),\n",
        "        'breadcrumblist-microdata': key_exists(metadata['microdata'], 'BreadcrumbList'),\n",
        "    }\n",
        "\n",
        "    df_specific = df_specific.append(row, ignore_index=True)\n",
        "\n",
        "df_specific.sort_values(by='url-path', ascending=False).head(9).T\n",
        "\n"
      ],
      "metadata": {
        "id": "QFBTgPaLI-BK",
        "colab": {
          "base_uri": "https://localhost:8080/",
          "height": 695
        },
        "outputId": "62ebd36d-9550-4e53-a121-1a785dedee5f"
      },
      "execution_count": 20,
      "outputs": [
        {
          "output_type": "execute_result",
          "data": {
            "text/plain": [
              "                                                 0  \\\n",
              "url-path                   www.morrisons.com/help/   \n",
              "organization-json-ld                         False   \n",
              "organization-microdata                       False   \n",
              "product-json-ld                              False   \n",
              "product-microdata                            False   \n",
              "offer-json-ld                                False   \n",
              "offer-microdata                              False   \n",
              "review-json-ld                               False   \n",
              "review-microdata                             False   \n",
              "aggregaterating-json-ld                      False   \n",
              "aggregaterating-microdata                    False   \n",
              "breadcrumblist-json-ld                       False   \n",
              "breadcrumblist-microdata                     False   \n",
              "\n",
              "                                                               2  \\\n",
              "url-path                   www.morrisons-corporate.com/about-us/   \n",
              "organization-json-ld                                       False   \n",
              "organization-microdata                                     False   \n",
              "product-json-ld                                            False   \n",
              "product-microdata                                          False   \n",
              "offer-json-ld                                              False   \n",
              "offer-microdata                                            False   \n",
              "review-json-ld                                             False   \n",
              "review-microdata                                           False   \n",
              "aggregaterating-json-ld                                    False   \n",
              "aggregaterating-microdata                                  False   \n",
              "breadcrumblist-json-ld                                     False   \n",
              "breadcrumblist-microdata                                   False   \n",
              "\n",
              "                                                                           7  \\\n",
              "url-path                   my.morrisons.com/storefinder/https://www.morri...   \n",
              "organization-json-ld                                                   False   \n",
              "organization-microdata                                                 False   \n",
              "product-json-ld                                                        False   \n",
              "product-microdata                                                      False   \n",
              "offer-json-ld                                                          False   \n",
              "offer-microdata                                                        False   \n",
              "review-json-ld                                                         False   \n",
              "review-microdata                                                       False   \n",
              "aggregaterating-json-ld                                                False   \n",
              "aggregaterating-microdata                                              False   \n",
              "breadcrumblist-json-ld                                                 False   \n",
              "breadcrumblist-microdata                                               False   \n",
              "\n",
              "                                                                           3  \\\n",
              "url-path                   groceries.morrisons.com/webshop/bundle/breaded...   \n",
              "organization-json-ld                                                   False   \n",
              "organization-microdata                                                 False   \n",
              "product-json-ld                                                        False   \n",
              "product-microdata                                                      False   \n",
              "offer-json-ld                                                          False   \n",
              "offer-microdata                                                        False   \n",
              "review-json-ld                                                         False   \n",
              "review-microdata                                                       False   \n",
              "aggregaterating-json-ld                                                False   \n",
              "aggregaterating-microdata                                              False   \n",
              "breadcrumblist-json-ld                                                 False   \n",
              "breadcrumblist-microdata                                               False   \n",
              "\n",
              "                                                                           1  \\\n",
              "url-path                   groceries.morrisons.com/products/pukka-steak-s...   \n",
              "organization-json-ld                                                   False   \n",
              "organization-microdata                                                 False   \n",
              "product-json-ld                                                        False   \n",
              "product-microdata                                                      False   \n",
              "offer-json-ld                                                          False   \n",
              "offer-microdata                                                        False   \n",
              "review-json-ld                                                         False   \n",
              "review-microdata                                                       False   \n",
              "aggregaterating-json-ld                                                False   \n",
              "aggregaterating-microdata                                              False   \n",
              "breadcrumblist-json-ld                                                 False   \n",
              "breadcrumblist-microdata                                               False   \n",
              "\n",
              "                                                          6  \\\n",
              "url-path                   groceries.morrisons.com/on-offer   \n",
              "organization-json-ld                                  False   \n",
              "organization-microdata                                False   \n",
              "product-json-ld                                       False   \n",
              "product-microdata                                     False   \n",
              "offer-json-ld                                         False   \n",
              "offer-microdata                                       False   \n",
              "review-json-ld                                        False   \n",
              "review-microdata                                      False   \n",
              "aggregaterating-json-ld                               False   \n",
              "aggregaterating-microdata                             False   \n",
              "breadcrumblist-json-ld                                False   \n",
              "breadcrumblist-microdata                              False   \n",
              "\n",
              "                                                                           5  \\\n",
              "url-path                   groceries.morrisons.com/content/recipes-by-mor...   \n",
              "organization-json-ld                                                   False   \n",
              "organization-microdata                                                 False   \n",
              "product-json-ld                                                        False   \n",
              "product-microdata                                                      False   \n",
              "offer-json-ld                                                          False   \n",
              "offer-microdata                                                        False   \n",
              "review-json-ld                                                         False   \n",
              "review-microdata                                                       False   \n",
              "aggregaterating-json-ld                                                False   \n",
              "aggregaterating-microdata                                              False   \n",
              "breadcrumblist-json-ld                                                 False   \n",
              "breadcrumblist-microdata                                               False   \n",
              "\n",
              "                                                  4  \n",
              "url-path                   groceries.morrisons.com/  \n",
              "organization-json-ld                          False  \n",
              "organization-microdata                        False  \n",
              "product-json-ld                               False  \n",
              "product-microdata                             False  \n",
              "offer-json-ld                                 False  \n",
              "offer-microdata                               False  \n",
              "review-json-ld                                False  \n",
              "review-microdata                              False  \n",
              "aggregaterating-json-ld                       False  \n",
              "aggregaterating-microdata                     False  \n",
              "breadcrumblist-json-ld                        False  \n",
              "breadcrumblist-microdata                      False  "
            ],
            "text/html": [
              "\n",
              "  <div id=\"df-0aa8cc76-c63a-4ec3-9867-223dc8643045\">\n",
              "    <div class=\"colab-df-container\">\n",
              "      <div>\n",
              "<style scoped>\n",
              "    .dataframe tbody tr th:only-of-type {\n",
              "        vertical-align: middle;\n",
              "    }\n",
              "\n",
              "    .dataframe tbody tr th {\n",
              "        vertical-align: top;\n",
              "    }\n",
              "\n",
              "    .dataframe thead th {\n",
              "        text-align: right;\n",
              "    }\n",
              "</style>\n",
              "<table border=\"1\" class=\"dataframe\">\n",
              "  <thead>\n",
              "    <tr style=\"text-align: right;\">\n",
              "      <th></th>\n",
              "      <th>0</th>\n",
              "      <th>2</th>\n",
              "      <th>7</th>\n",
              "      <th>3</th>\n",
              "      <th>1</th>\n",
              "      <th>6</th>\n",
              "      <th>5</th>\n",
              "      <th>4</th>\n",
              "    </tr>\n",
              "  </thead>\n",
              "  <tbody>\n",
              "    <tr>\n",
              "      <th>url-path</th>\n",
              "      <td>www.morrisons.com/help/</td>\n",
              "      <td>www.morrisons-corporate.com/about-us/</td>\n",
              "      <td>my.morrisons.com/storefinder/https://www.morri...</td>\n",
              "      <td>groceries.morrisons.com/webshop/bundle/breaded...</td>\n",
              "      <td>groceries.morrisons.com/products/pukka-steak-s...</td>\n",
              "      <td>groceries.morrisons.com/on-offer</td>\n",
              "      <td>groceries.morrisons.com/content/recipes-by-mor...</td>\n",
              "      <td>groceries.morrisons.com/</td>\n",
              "    </tr>\n",
              "    <tr>\n",
              "      <th>organization-json-ld</th>\n",
              "      <td>False</td>\n",
              "      <td>False</td>\n",
              "      <td>False</td>\n",
              "      <td>False</td>\n",
              "      <td>False</td>\n",
              "      <td>False</td>\n",
              "      <td>False</td>\n",
              "      <td>False</td>\n",
              "    </tr>\n",
              "    <tr>\n",
              "      <th>organization-microdata</th>\n",
              "      <td>False</td>\n",
              "      <td>False</td>\n",
              "      <td>False</td>\n",
              "      <td>False</td>\n",
              "      <td>False</td>\n",
              "      <td>False</td>\n",
              "      <td>False</td>\n",
              "      <td>False</td>\n",
              "    </tr>\n",
              "    <tr>\n",
              "      <th>product-json-ld</th>\n",
              "      <td>False</td>\n",
              "      <td>False</td>\n",
              "      <td>False</td>\n",
              "      <td>False</td>\n",
              "      <td>False</td>\n",
              "      <td>False</td>\n",
              "      <td>False</td>\n",
              "      <td>False</td>\n",
              "    </tr>\n",
              "    <tr>\n",
              "      <th>product-microdata</th>\n",
              "      <td>False</td>\n",
              "      <td>False</td>\n",
              "      <td>False</td>\n",
              "      <td>False</td>\n",
              "      <td>False</td>\n",
              "      <td>False</td>\n",
              "      <td>False</td>\n",
              "      <td>False</td>\n",
              "    </tr>\n",
              "    <tr>\n",
              "      <th>offer-json-ld</th>\n",
              "      <td>False</td>\n",
              "      <td>False</td>\n",
              "      <td>False</td>\n",
              "      <td>False</td>\n",
              "      <td>False</td>\n",
              "      <td>False</td>\n",
              "      <td>False</td>\n",
              "      <td>False</td>\n",
              "    </tr>\n",
              "    <tr>\n",
              "      <th>offer-microdata</th>\n",
              "      <td>False</td>\n",
              "      <td>False</td>\n",
              "      <td>False</td>\n",
              "      <td>False</td>\n",
              "      <td>False</td>\n",
              "      <td>False</td>\n",
              "      <td>False</td>\n",
              "      <td>False</td>\n",
              "    </tr>\n",
              "    <tr>\n",
              "      <th>review-json-ld</th>\n",
              "      <td>False</td>\n",
              "      <td>False</td>\n",
              "      <td>False</td>\n",
              "      <td>False</td>\n",
              "      <td>False</td>\n",
              "      <td>False</td>\n",
              "      <td>False</td>\n",
              "      <td>False</td>\n",
              "    </tr>\n",
              "    <tr>\n",
              "      <th>review-microdata</th>\n",
              "      <td>False</td>\n",
              "      <td>False</td>\n",
              "      <td>False</td>\n",
              "      <td>False</td>\n",
              "      <td>False</td>\n",
              "      <td>False</td>\n",
              "      <td>False</td>\n",
              "      <td>False</td>\n",
              "    </tr>\n",
              "    <tr>\n",
              "      <th>aggregaterating-json-ld</th>\n",
              "      <td>False</td>\n",
              "      <td>False</td>\n",
              "      <td>False</td>\n",
              "      <td>False</td>\n",
              "      <td>False</td>\n",
              "      <td>False</td>\n",
              "      <td>False</td>\n",
              "      <td>False</td>\n",
              "    </tr>\n",
              "    <tr>\n",
              "      <th>aggregaterating-microdata</th>\n",
              "      <td>False</td>\n",
              "      <td>False</td>\n",
              "      <td>False</td>\n",
              "      <td>False</td>\n",
              "      <td>False</td>\n",
              "      <td>False</td>\n",
              "      <td>False</td>\n",
              "      <td>False</td>\n",
              "    </tr>\n",
              "    <tr>\n",
              "      <th>breadcrumblist-json-ld</th>\n",
              "      <td>False</td>\n",
              "      <td>False</td>\n",
              "      <td>False</td>\n",
              "      <td>False</td>\n",
              "      <td>False</td>\n",
              "      <td>False</td>\n",
              "      <td>False</td>\n",
              "      <td>False</td>\n",
              "    </tr>\n",
              "    <tr>\n",
              "      <th>breadcrumblist-microdata</th>\n",
              "      <td>False</td>\n",
              "      <td>False</td>\n",
              "      <td>False</td>\n",
              "      <td>False</td>\n",
              "      <td>False</td>\n",
              "      <td>False</td>\n",
              "      <td>False</td>\n",
              "      <td>False</td>\n",
              "    </tr>\n",
              "  </tbody>\n",
              "</table>\n",
              "</div>\n",
              "      <button class=\"colab-df-convert\" onclick=\"convertToInteractive('df-0aa8cc76-c63a-4ec3-9867-223dc8643045')\"\n",
              "              title=\"Convert this dataframe to an interactive table.\"\n",
              "              style=\"display:none;\">\n",
              "        \n",
              "  <svg xmlns=\"http://www.w3.org/2000/svg\" height=\"24px\"viewBox=\"0 0 24 24\"\n",
              "       width=\"24px\">\n",
              "    <path d=\"M0 0h24v24H0V0z\" fill=\"none\"/>\n",
              "    <path d=\"M18.56 5.44l.94 2.06.94-2.06 2.06-.94-2.06-.94-.94-2.06-.94 2.06-2.06.94zm-11 1L8.5 8.5l.94-2.06 2.06-.94-2.06-.94L8.5 2.5l-.94 2.06-2.06.94zm10 10l.94 2.06.94-2.06 2.06-.94-2.06-.94-.94-2.06-.94 2.06-2.06.94z\"/><path d=\"M17.41 7.96l-1.37-1.37c-.4-.4-.92-.59-1.43-.59-.52 0-1.04.2-1.43.59L10.3 9.45l-7.72 7.72c-.78.78-.78 2.05 0 2.83L4 21.41c.39.39.9.59 1.41.59.51 0 1.02-.2 1.41-.59l7.78-7.78 2.81-2.81c.8-.78.8-2.07 0-2.86zM5.41 20L4 18.59l7.72-7.72 1.47 1.35L5.41 20z\"/>\n",
              "  </svg>\n",
              "      </button>\n",
              "      \n",
              "  <style>\n",
              "    .colab-df-container {\n",
              "      display:flex;\n",
              "      flex-wrap:wrap;\n",
              "      gap: 12px;\n",
              "    }\n",
              "\n",
              "    .colab-df-convert {\n",
              "      background-color: #E8F0FE;\n",
              "      border: none;\n",
              "      border-radius: 50%;\n",
              "      cursor: pointer;\n",
              "      display: none;\n",
              "      fill: #1967D2;\n",
              "      height: 32px;\n",
              "      padding: 0 0 0 0;\n",
              "      width: 32px;\n",
              "    }\n",
              "\n",
              "    .colab-df-convert:hover {\n",
              "      background-color: #E2EBFA;\n",
              "      box-shadow: 0px 1px 2px rgba(60, 64, 67, 0.3), 0px 1px 3px 1px rgba(60, 64, 67, 0.15);\n",
              "      fill: #174EA6;\n",
              "    }\n",
              "\n",
              "    [theme=dark] .colab-df-convert {\n",
              "      background-color: #3B4455;\n",
              "      fill: #D2E3FC;\n",
              "    }\n",
              "\n",
              "    [theme=dark] .colab-df-convert:hover {\n",
              "      background-color: #434B5C;\n",
              "      box-shadow: 0px 1px 3px 1px rgba(0, 0, 0, 0.15);\n",
              "      filter: drop-shadow(0px 1px 2px rgba(0, 0, 0, 0.3));\n",
              "      fill: #FFFFFF;\n",
              "    }\n",
              "  </style>\n",
              "\n",
              "      <script>\n",
              "        const buttonEl =\n",
              "          document.querySelector('#df-0aa8cc76-c63a-4ec3-9867-223dc8643045 button.colab-df-convert');\n",
              "        buttonEl.style.display =\n",
              "          google.colab.kernel.accessAllowed ? 'block' : 'none';\n",
              "\n",
              "        async function convertToInteractive(key) {\n",
              "          const element = document.querySelector('#df-0aa8cc76-c63a-4ec3-9867-223dc8643045');\n",
              "          const dataTable =\n",
              "            await google.colab.kernel.invokeFunction('convertToInteractive',\n",
              "                                                     [key], {});\n",
              "          if (!dataTable) return;\n",
              "\n",
              "          const docLinkHtml = 'Like what you see? Visit the ' +\n",
              "            '<a target=\"_blank\" href=https://colab.research.google.com/notebooks/data_table.ipynb>data table notebook</a>'\n",
              "            + ' to learn more about interactive tables.';\n",
              "          element.innerHTML = '';\n",
              "          dataTable['output_type'] = 'display_data';\n",
              "          await google.colab.output.renderOutput(dataTable, element);\n",
              "          const docLink = document.createElement('div');\n",
              "          docLink.innerHTML = docLinkHtml;\n",
              "          element.appendChild(docLink);\n",
              "        }\n",
              "      </script>\n",
              "    </div>\n",
              "  </div>\n",
              "  "
            ]
          },
          "metadata": {},
          "execution_count": 20
        }
      ]
    }
  ]
}