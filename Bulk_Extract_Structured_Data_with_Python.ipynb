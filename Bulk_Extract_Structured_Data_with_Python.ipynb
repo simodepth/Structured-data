{
  "nbformat": 4,
  "nbformat_minor": 0,
  "metadata": {
    "colab": {
      "name": "Bulk Extract Structured Data with Python",
      "provenance": [],
      "collapsed_sections": [],
      "include_colab_link": true
    },
    "kernelspec": {
      "name": "python3",
      "display_name": "Python 3"
    },
    "language_info": {
      "name": "python"
    },
    "accelerator": "GPU"
  },
  "cells": [
    {
      "cell_type": "markdown",
      "metadata": {
        "id": "view-in-github",
        "colab_type": "text"
      },
      "source": [
        "<a href=\"https://colab.research.google.com/github/simodepth/Structured-data/blob/main/Bulk_Extract_Structured_Data_with_Python.ipynb\" target=\"_parent\"><img src=\"https://colab.research.google.com/assets/colab-badge.svg\" alt=\"Open In Colab\"/></a>"
      ]
    },
    {
      "cell_type": "markdown",
      "source": [
        "#How to extract and compare structured data against competitors in bulk\n",
        "\n",
        "Structured data represent a goldmine in your technical SEO asset as a thorough and detailed implementation of schemas on valuable pages can positively impact  CTR and prompt Google to tip your webpages with 'sexy' SERP features.\n",
        "\n",
        "\n",
        "If you're looking for a quick win-win method to analyze structured data from both your website and your competitors, this script may be to your help.\n"
      ],
      "metadata": {
        "id": "5EA2pOjJyVv2"
      }
    },
    {
      "cell_type": "markdown",
      "source": [
        "#How to optimize Schema Markup ?\n",
        "\n",
        "\n",
        "🚨 **Make it simple** - write in ways that translate easily to structured data. Write your content and title tags in **[Triples](https://schemantra.com/blog/2022/05/22/structured-data-optimization-for-seo-and-for-semantic-seo/)** or `subject —> verb —> object` \n",
        "\n",
        "🚨 **Markup relevant content only** - not all the pages need a schema mark up if they are no not designed to bring additional value to the search\n",
        "\n",
        "🚨 **Mark up ONLY existing content on your page** - you don’t want to pinpoint a piece of information which is not on your page as Google may penalize your rankings\n",
        "\n",
        "🚨 **Avoid [Schema Stuffing](https://www.searchenginejournal.com/schema-stuffing-spam/449891/)** - including multiple schemas to your content may do nothing but harm if it results in misleading suggestions that the content is something other than it is\n",
        "\n",
        "🚨 **Define your primary entity using mainEntity**, and describe its relations to other entities using `URL`, `sameAs` and `About`."
      ],
      "metadata": {
        "id": "9exP-dIovly6"
      }
    },
    {
      "cell_type": "code",
      "execution_count": null,
      "metadata": {
        "colab": {
          "base_uri": "https://localhost:8080/"
        },
        "id": "yKw27It1DzPV",
        "outputId": "bcf7ef1b-1d09-46dd-e5f7-888d3cf592a4"
      },
      "outputs": [
        {
          "output_type": "stream",
          "name": "stdout",
          "text": [
            "Looking in indexes: https://pypi.org/simple, https://us-python.pkg.dev/colab-wheels/public/simple/\n",
            "Collecting extruct\n",
            "  Downloading extruct-0.13.0-py2.py3-none-any.whl (25 kB)\n",
            "Collecting pyrdfa3\n",
            "  Downloading pyRdfa3-3.5.3-py3-none-any.whl (121 kB)\n",
            "\u001b[K     |████████████████████████████████| 121 kB 42.2 MB/s \n",
            "\u001b[?25hRequirement already satisfied: lxml in /usr/local/lib/python3.7/dist-packages (from extruct) (4.2.6)\n",
            "Collecting rdflib-jsonld\n",
            "  Downloading rdflib_jsonld-0.6.2-py2.py3-none-any.whl (4.0 kB)\n",
            "Collecting jstyleson\n",
            "  Downloading jstyleson-0.0.2.tar.gz (2.0 kB)\n",
            "Collecting mf2py\n",
            "  Downloading mf2py-1.1.2.tar.gz (25 kB)\n",
            "Collecting html-text>=0.5.1\n",
            "  Downloading html_text-0.5.2-py2.py3-none-any.whl (7.5 kB)\n",
            "Collecting rdflib\n",
            "  Downloading rdflib-6.1.1-py3-none-any.whl (482 kB)\n",
            "\u001b[K     |████████████████████████████████| 482 kB 57.6 MB/s \n",
            "\u001b[?25hRequirement already satisfied: six in /usr/local/lib/python3.7/dist-packages (from extruct) (1.15.0)\n",
            "Collecting w3lib\n",
            "  Downloading w3lib-1.22.0-py2.py3-none-any.whl (20 kB)\n",
            "Requirement already satisfied: html5lib>=1.0.1 in /usr/local/lib/python3.7/dist-packages (from mf2py->extruct) (1.0.1)\n",
            "Requirement already satisfied: requests>=2.18.4 in /usr/local/lib/python3.7/dist-packages (from mf2py->extruct) (2.23.0)\n",
            "Requirement already satisfied: BeautifulSoup4>=4.6.0 in /usr/local/lib/python3.7/dist-packages (from mf2py->extruct) (4.6.3)\n",
            "Requirement already satisfied: webencodings in /usr/local/lib/python3.7/dist-packages (from html5lib>=1.0.1->mf2py->extruct) (0.5.1)\n",
            "Requirement already satisfied: idna<3,>=2.5 in /usr/local/lib/python3.7/dist-packages (from requests>=2.18.4->mf2py->extruct) (2.10)\n",
            "Requirement already satisfied: chardet<4,>=3.0.2 in /usr/local/lib/python3.7/dist-packages (from requests>=2.18.4->mf2py->extruct) (3.0.4)\n",
            "Requirement already satisfied: urllib3!=1.25.0,!=1.25.1,<1.26,>=1.21.1 in /usr/local/lib/python3.7/dist-packages (from requests>=2.18.4->mf2py->extruct) (1.24.3)\n",
            "Requirement already satisfied: certifi>=2017.4.17 in /usr/local/lib/python3.7/dist-packages (from requests>=2.18.4->mf2py->extruct) (2022.5.18.1)\n",
            "Requirement already satisfied: importlib-metadata in /usr/local/lib/python3.7/dist-packages (from rdflib->extruct) (4.11.3)\n",
            "Requirement already satisfied: setuptools in /usr/local/lib/python3.7/dist-packages (from rdflib->extruct) (57.4.0)\n",
            "Requirement already satisfied: pyparsing in /usr/local/lib/python3.7/dist-packages (from rdflib->extruct) (3.0.9)\n",
            "Collecting isodate\n",
            "  Downloading isodate-0.6.1-py2.py3-none-any.whl (41 kB)\n",
            "\u001b[K     |████████████████████████████████| 41 kB 758 kB/s \n",
            "\u001b[?25hRequirement already satisfied: zipp>=0.5 in /usr/local/lib/python3.7/dist-packages (from importlib-metadata->rdflib->extruct) (3.8.0)\n",
            "Requirement already satisfied: typing-extensions>=3.6.4 in /usr/local/lib/python3.7/dist-packages (from importlib-metadata->rdflib->extruct) (4.2.0)\n",
            "Building wheels for collected packages: jstyleson, mf2py\n",
            "  Building wheel for jstyleson (setup.py) ... \u001b[?25l\u001b[?25hdone\n",
            "  Created wheel for jstyleson: filename=jstyleson-0.0.2-py3-none-any.whl size=2402 sha256=61cb0ef9455c5c4654ba23a241325cbe8f3f314a277d3de6c1032d5421d819ed\n",
            "  Stored in directory: /root/.cache/pip/wheels/be/8e/03/d5962b9032cc1b638d1891a3bfbfdc6627cac531754f79ef23\n",
            "  Building wheel for mf2py (setup.py) ... \u001b[?25l\u001b[?25hdone\n",
            "  Created wheel for mf2py: filename=mf2py-1.1.2-py3-none-any.whl size=23244 sha256=0cde7d98cd55b9385c09be887671493047b839dbb8cb95bf60bd55d13b5e0422\n",
            "  Stored in directory: /root/.cache/pip/wheels/d9/47/72/d1f19d30e8dd2c06e7084d93ea90ab5ec60c6db488398c67db\n",
            "Successfully built jstyleson mf2py\n",
            "Installing collected packages: isodate, rdflib, w3lib, rdflib-jsonld, pyrdfa3, mf2py, jstyleson, html-text, extruct\n",
            "Successfully installed extruct-0.13.0 html-text-0.5.2 isodate-0.6.1 jstyleson-0.0.2 mf2py-1.1.2 pyrdfa3-3.5.3 rdflib-6.1.1 rdflib-jsonld-0.6.2 w3lib-1.22.0\n",
            "Looking in indexes: https://pypi.org/simple, https://us-python.pkg.dev/colab-wheels/public/simple/\n",
            "\u001b[31mERROR: Could not find a version that satisfies the requirement w3lib.htmml (from versions: none)\u001b[0m\n",
            "\u001b[31mERROR: No matching distribution found for w3lib.htmml\u001b[0m\n"
          ]
        }
      ],
      "source": [
        "#@title Install Modules\n",
        "!pip install extruct\n",
        "!pip install w3lib.htmml"
      ]
    },
    {
      "cell_type": "code",
      "source": [
        "#@title Import Modules\n",
        "import pandas as pd\n",
        "import extruct\n",
        "import requests\n",
        "from w3lib.html import get_base_url\n",
        "from urllib.parse import urlparse"
      ],
      "metadata": {
        "id": "C_8u5ZzME27M"
      },
      "execution_count": null,
      "outputs": []
    },
    {
      "cell_type": "markdown",
      "source": [
        "#Have an unlimited list of competing URLs to scrape"
      ],
      "metadata": {
        "id": "1ZoSva08Lf_q"
      }
    },
    {
      "cell_type": "code",
      "source": [
        "sites = ['https://www.my1styears.com/personalised-silver-baby-jewellery-gift-set.html',\n",
        "         'https://www.my1styears.com/personalised-grey-bunny-soft-toy.html',\n",
        "         'https://www.my1styears.com/personalised-penguin-fleece-robe.html',\n",
        "         ]"
      ],
      "metadata": {
        "id": "ux4y9nk2EYca"
      },
      "execution_count": null,
      "outputs": []
    },
    {
      "cell_type": "markdown",
      "source": [
        "#Extract the metadata for one sample page"
      ],
      "metadata": {
        "id": "H3CLZXY9L-Eb"
      }
    },
    {
      "cell_type": "code",
      "source": [
        "def extract_metadata(url):\n",
        "\n",
        "    r = requests.get(url)\n",
        "    base_url = get_base_url(r.text, r.url)\n",
        "    metadata = extruct.extract(r.text, \n",
        "                               base_url=base_url,\n",
        "                               uniform=True,\n",
        "                               syntaxes=['json-ld',\n",
        "                                         'microdata',\n",
        "                                         'opengraph',\n",
        "                                         'rdfa'])\n",
        "    return metadata"
      ],
      "metadata": {
        "id": "U45YuJ9xGYrR"
      },
      "execution_count": null,
      "outputs": []
    },
    {
      "cell_type": "code",
      "source": [
        "metadata = extract_metadata('https://www.my1styears.com/personalised-grey-bunny-soft-toy.html')\n",
        "metadata"
      ],
      "metadata": {
        "colab": {
          "base_uri": "https://localhost:8080/"
        },
        "id": "iQk05XoXGaMI",
        "outputId": "20848f5c-51ce-4c91-a561-1ee2a4f762ba"
      },
      "execution_count": null,
      "outputs": [
        {
          "output_type": "execute_result",
          "data": {
            "text/plain": [
              "{'json-ld': [{'@context': 'https://schema.org/',\n",
              "   '@type': 'WebSite',\n",
              "   'name': 'My 1st Years',\n",
              "   'potentialAction': {'@type': 'SearchAction',\n",
              "    'query-input': 'required name=search_term_string',\n",
              "    'target': 'https://www.my1styears.com/catalogsearch/result/?q={search_term_string}'},\n",
              "   'url': 'https://www.my1styears.com/'}],\n",
              " 'microdata': [{'@context': 'http://schema.org',\n",
              "   '@type': 'Product',\n",
              "   'image': 'https://cdn.my1styears.com/media/catalog/product/cache/d8e9c4df3ed3fb9e8c3721796f593e45/s/e/se_50111091_new-core-bunny---grey-a.jpg',\n",
              "   'name': 'Personalised Light Grey Bunny Soft Toy',\n",
              "   'offers': {'@type': 'Offer', 'price': '28', 'priceCurrency': 'GBP'},\n",
              "   'sku': 'SE_MFY5001S'}],\n",
              " 'opengraph': [{'@context': {'fb': 'http://ogp.me/ns/fb#',\n",
              "    'og': 'http://ogp.me/ns#',\n",
              "    'product': 'http://ogp.me/ns/product#'},\n",
              "   '@type': 'product',\n",
              "   'og:description': '...',\n",
              "   'og:image': 'https://cdn.my1styears.com/media/catalog/product/cache/0521aff7518f3552a798ff9cfed7f306/s/e/se_50111091_new-core-bunny---grey-a.jpg',\n",
              "   'og:title': 'Personalised Light Grey Bunny Soft Toy',\n",
              "   'og:url': 'https://www.my1styears.com/personalised-grey-bunny-soft-toy.html',\n",
              "   'product:price:amount': '28',\n",
              "   'product:price:currency': 'GBP'}],\n",
              " 'rdfa': [{'@id': '_:N7fe0d9c8c1164cd893deed2013fe126f',\n",
              "   'http://www.w3.org/1999/xhtml/vocab#role': [{'@id': 'http://www.w3.org/1999/xhtml/vocab#alert'}]},\n",
              "  {'@id': '_:N8798d51b77834d10816bb9dda4cb5efc',\n",
              "   'http://www.w3.org/1999/xhtml/vocab#role': [{'@id': 'http://www.w3.org/1999/xhtml/vocab#heading'}]},\n",
              "  {'@id': '_:N1b9234ed08784db78d0cb496c480e6c2',\n",
              "   'http://www.w3.org/1999/xhtml/vocab#role': [{'@id': 'http://www.w3.org/1999/xhtml/vocab#alert'}]},\n",
              "  {'@id': 'https://www.my1styears.com/personalised-grey-bunny-soft-toy.html#block-upsell-heading',\n",
              "   'http://www.w3.org/1999/xhtml/vocab#role': [{'@id': 'http://www.w3.org/1999/xhtml/vocab#heading'}]},\n",
              "  {'@id': 'https://www.my1styears.com/personalised-grey-bunny-soft-toy.html',\n",
              "   'http://ogp.me/ns#description': [{'@value': '...'}],\n",
              "   'http://ogp.me/ns#image': [{'@value': 'https://cdn.my1styears.com/media/catalog/product/cache/0521aff7518f3552a798ff9cfed7f306/s/e/se_50111091_new-core-bunny---grey-a.jpg'}],\n",
              "   'http://ogp.me/ns#title': [{'@value': 'Personalised Light Grey Bunny Soft Toy'}],\n",
              "   'http://ogp.me/ns#type': [{'@value': 'product'}],\n",
              "   'http://ogp.me/ns#url': [{'@value': 'https://www.my1styears.com/personalised-grey-bunny-soft-toy.html'}],\n",
              "   'http://ogp.me/ns/product#price:amount': [{'@value': '28'}],\n",
              "   'http://ogp.me/ns/product#price:currency': [{'@value': 'GBP'}]}]}"
            ]
          },
          "metadata": {},
          "execution_count": 5
        }
      ]
    },
    {
      "cell_type": "markdown",
      "source": [
        "#Investigate whether the URL is using a specific metadata type"
      ],
      "metadata": {
        "id": "Izbmi8wCMIXC"
      }
    },
    {
      "cell_type": "code",
      "source": [
        "def uses_metadata_type(metadata, metadata_type):\n",
        "    if (metadata_type in metadata.keys()) and (len(metadata[metadata_type]) > 0):\n",
        "        return True\n",
        "    else:\n",
        "        return False"
      ],
      "metadata": {
        "id": "V75aUeHuG5-x"
      },
      "execution_count": null,
      "outputs": []
    },
    {
      "cell_type": "code",
      "source": [
        "uses_metadata_type(metadata, 'opengraph')"
      ],
      "metadata": {
        "colab": {
          "base_uri": "https://localhost:8080/"
        },
        "id": "c7oGKUReG-xk",
        "outputId": "a9894689-3c04-4164-b9b1-cf039eafe6b6"
      },
      "execution_count": null,
      "outputs": [
        {
          "output_type": "execute_result",
          "data": {
            "text/plain": [
              "True"
            ]
          },
          "metadata": {},
          "execution_count": 7
        }
      ]
    },
    {
      "cell_type": "code",
      "source": [
        "uses_metadata_type(metadata, 'rdfa')"
      ],
      "metadata": {
        "colab": {
          "base_uri": "https://localhost:8080/"
        },
        "id": "jRUgW33eHDWR",
        "outputId": "cf6e2100-00e5-4df1-9c2c-83ecb350d3cf"
      },
      "execution_count": null,
      "outputs": [
        {
          "output_type": "execute_result",
          "data": {
            "text/plain": [
              "True"
            ]
          },
          "metadata": {},
          "execution_count": 8
        }
      ]
    },
    {
      "cell_type": "code",
      "source": [
        "uses_metadata_type(metadata, 'json-ld')"
      ],
      "metadata": {
        "colab": {
          "base_uri": "https://localhost:8080/"
        },
        "id": "Wog5AqAMBB1e",
        "outputId": "1a22a4f4-7053-44d9-99de-d1a782a0415f"
      },
      "execution_count": null,
      "outputs": [
        {
          "output_type": "execute_result",
          "data": {
            "text/plain": [
              "True"
            ]
          },
          "metadata": {},
          "execution_count": 9
        }
      ]
    },
    {
      "cell_type": "code",
      "source": [
        "uses_metadata_type(metadata, 'microdata')"
      ],
      "metadata": {
        "colab": {
          "base_uri": "https://localhost:8080/"
        },
        "id": "74mWGJrdBHyi",
        "outputId": "4ea12f3a-a32e-45c8-e62b-570196f71c9d"
      },
      "execution_count": null,
      "outputs": [
        {
          "output_type": "execute_result",
          "data": {
            "text/plain": [
              "True"
            ]
          },
          "metadata": {},
          "execution_count": 10
        }
      ]
    },
    {
      "cell_type": "code",
      "source": [
        "#@title Extract metadata usage for each site\n",
        "df = pd.DataFrame(columns = ['url', 'microdata', 'json-ld', 'opengraph', 'rdfa'])\n",
        "\n",
        "for url in sites:    \n",
        "    metadata = extract_metadata(url)\n",
        "    urldata = urlparse(url)\n",
        "\n",
        "    row = {\n",
        "        'url': urldata.netloc, \n",
        "        'microdata': uses_metadata_type(metadata, 'microdata'),\n",
        "        'json-ld': uses_metadata_type(metadata, 'json-ld'),\n",
        "        'opengraph': uses_metadata_type(metadata, 'opengraph'),\n",
        "        'rdfa': uses_metadata_type(metadata, 'rdfa')              \n",
        "    }\n",
        "\n",
        "    df = df.append(row, ignore_index=True)\n",
        "\n",
        "df.head(10).sort_values(by='microdata', ascending=False)"
      ],
      "metadata": {
        "colab": {
          "base_uri": "https://localhost:8080/",
          "height": 144
        },
        "id": "PCWWngt0HEu0",
        "outputId": "8c0dd6c7-b401-4cfe-a87b-72c52a3e76d7",
        "cellView": "form"
      },
      "execution_count": null,
      "outputs": [
        {
          "output_type": "execute_result",
          "data": {
            "text/plain": [
              "                  url microdata json-ld opengraph  rdfa\n",
              "0  www.my1styears.com      True    True      True  True\n",
              "1  www.my1styears.com      True    True      True  True\n",
              "2  www.my1styears.com      True    True      True  True"
            ],
            "text/html": [
              "\n",
              "  <div id=\"df-cee0e4af-74e9-4ea3-ba68-2b45cad5eeb3\">\n",
              "    <div class=\"colab-df-container\">\n",
              "      <div>\n",
              "<style scoped>\n",
              "    .dataframe tbody tr th:only-of-type {\n",
              "        vertical-align: middle;\n",
              "    }\n",
              "\n",
              "    .dataframe tbody tr th {\n",
              "        vertical-align: top;\n",
              "    }\n",
              "\n",
              "    .dataframe thead th {\n",
              "        text-align: right;\n",
              "    }\n",
              "</style>\n",
              "<table border=\"1\" class=\"dataframe\">\n",
              "  <thead>\n",
              "    <tr style=\"text-align: right;\">\n",
              "      <th></th>\n",
              "      <th>url</th>\n",
              "      <th>microdata</th>\n",
              "      <th>json-ld</th>\n",
              "      <th>opengraph</th>\n",
              "      <th>rdfa</th>\n",
              "    </tr>\n",
              "  </thead>\n",
              "  <tbody>\n",
              "    <tr>\n",
              "      <th>0</th>\n",
              "      <td>www.my1styears.com</td>\n",
              "      <td>True</td>\n",
              "      <td>True</td>\n",
              "      <td>True</td>\n",
              "      <td>True</td>\n",
              "    </tr>\n",
              "    <tr>\n",
              "      <th>1</th>\n",
              "      <td>www.my1styears.com</td>\n",
              "      <td>True</td>\n",
              "      <td>True</td>\n",
              "      <td>True</td>\n",
              "      <td>True</td>\n",
              "    </tr>\n",
              "    <tr>\n",
              "      <th>2</th>\n",
              "      <td>www.my1styears.com</td>\n",
              "      <td>True</td>\n",
              "      <td>True</td>\n",
              "      <td>True</td>\n",
              "      <td>True</td>\n",
              "    </tr>\n",
              "  </tbody>\n",
              "</table>\n",
              "</div>\n",
              "      <button class=\"colab-df-convert\" onclick=\"convertToInteractive('df-cee0e4af-74e9-4ea3-ba68-2b45cad5eeb3')\"\n",
              "              title=\"Convert this dataframe to an interactive table.\"\n",
              "              style=\"display:none;\">\n",
              "        \n",
              "  <svg xmlns=\"http://www.w3.org/2000/svg\" height=\"24px\"viewBox=\"0 0 24 24\"\n",
              "       width=\"24px\">\n",
              "    <path d=\"M0 0h24v24H0V0z\" fill=\"none\"/>\n",
              "    <path d=\"M18.56 5.44l.94 2.06.94-2.06 2.06-.94-2.06-.94-.94-2.06-.94 2.06-2.06.94zm-11 1L8.5 8.5l.94-2.06 2.06-.94-2.06-.94L8.5 2.5l-.94 2.06-2.06.94zm10 10l.94 2.06.94-2.06 2.06-.94-2.06-.94-.94-2.06-.94 2.06-2.06.94z\"/><path d=\"M17.41 7.96l-1.37-1.37c-.4-.4-.92-.59-1.43-.59-.52 0-1.04.2-1.43.59L10.3 9.45l-7.72 7.72c-.78.78-.78 2.05 0 2.83L4 21.41c.39.39.9.59 1.41.59.51 0 1.02-.2 1.41-.59l7.78-7.78 2.81-2.81c.8-.78.8-2.07 0-2.86zM5.41 20L4 18.59l7.72-7.72 1.47 1.35L5.41 20z\"/>\n",
              "  </svg>\n",
              "      </button>\n",
              "      \n",
              "  <style>\n",
              "    .colab-df-container {\n",
              "      display:flex;\n",
              "      flex-wrap:wrap;\n",
              "      gap: 12px;\n",
              "    }\n",
              "\n",
              "    .colab-df-convert {\n",
              "      background-color: #E8F0FE;\n",
              "      border: none;\n",
              "      border-radius: 50%;\n",
              "      cursor: pointer;\n",
              "      display: none;\n",
              "      fill: #1967D2;\n",
              "      height: 32px;\n",
              "      padding: 0 0 0 0;\n",
              "      width: 32px;\n",
              "    }\n",
              "\n",
              "    .colab-df-convert:hover {\n",
              "      background-color: #E2EBFA;\n",
              "      box-shadow: 0px 1px 2px rgba(60, 64, 67, 0.3), 0px 1px 3px 1px rgba(60, 64, 67, 0.15);\n",
              "      fill: #174EA6;\n",
              "    }\n",
              "\n",
              "    [theme=dark] .colab-df-convert {\n",
              "      background-color: #3B4455;\n",
              "      fill: #D2E3FC;\n",
              "    }\n",
              "\n",
              "    [theme=dark] .colab-df-convert:hover {\n",
              "      background-color: #434B5C;\n",
              "      box-shadow: 0px 1px 3px 1px rgba(0, 0, 0, 0.15);\n",
              "      filter: drop-shadow(0px 1px 2px rgba(0, 0, 0, 0.3));\n",
              "      fill: #FFFFFF;\n",
              "    }\n",
              "  </style>\n",
              "\n",
              "      <script>\n",
              "        const buttonEl =\n",
              "          document.querySelector('#df-cee0e4af-74e9-4ea3-ba68-2b45cad5eeb3 button.colab-df-convert');\n",
              "        buttonEl.style.display =\n",
              "          google.colab.kernel.accessAllowed ? 'block' : 'none';\n",
              "\n",
              "        async function convertToInteractive(key) {\n",
              "          const element = document.querySelector('#df-cee0e4af-74e9-4ea3-ba68-2b45cad5eeb3');\n",
              "          const dataTable =\n",
              "            await google.colab.kernel.invokeFunction('convertToInteractive',\n",
              "                                                     [key], {});\n",
              "          if (!dataTable) return;\n",
              "\n",
              "          const docLinkHtml = 'Like what you see? Visit the ' +\n",
              "            '<a target=\"_blank\" href=https://colab.research.google.com/notebooks/data_table.ipynb>data table notebook</a>'\n",
              "            + ' to learn more about interactive tables.';\n",
              "          element.innerHTML = '';\n",
              "          dataTable['output_type'] = 'display_data';\n",
              "          await google.colab.output.renderOutput(dataTable, element);\n",
              "          const docLink = document.createElement('div');\n",
              "          docLink.innerHTML = docLinkHtml;\n",
              "          element.appendChild(docLink);\n",
              "        }\n",
              "      </script>\n",
              "    </div>\n",
              "  </div>\n",
              "  "
            ]
          },
          "metadata": {},
          "execution_count": 11
        }
      ]
    },
    {
      "cell_type": "markdown",
      "source": [
        "#Examine the specific metadata used"
      ],
      "metadata": {
        "id": "7XDXxfhBIBSs"
      }
    },
    {
      "cell_type": "code",
      "source": [
        "def key_exists(dict, key):\n",
        "\n",
        "    if not any(item['@type'] == key for item in dict):\n",
        "        return False\n",
        "    else:\n",
        "        return True   "
      ],
      "metadata": {
        "id": "T73RJzAnIF7R"
      },
      "execution_count": null,
      "outputs": []
    },
    {
      "cell_type": "markdown",
      "source": [
        "#Scrape specific metadata usage per site\n",
        "---\n",
        "We’re looping over the URLs, scraping the HTML, extracting the metadata, and then checking each key to see whether it is implemented by a given metadata type."
      ],
      "metadata": {
        "id": "x6hXt3jOJnAF"
      }
    },
    {
      "cell_type": "code",
      "source": [
        "metadata = extract_metadata('https://www.my1styears.com/personalised-grey-bunny-soft-toy.html')\n",
        "metadata"
      ],
      "metadata": {
        "colab": {
          "base_uri": "https://localhost:8080/"
        },
        "id": "Z5UcSfa3ILnE",
        "outputId": "36229466-6df3-4d42-837c-302d2ed15188"
      },
      "execution_count": null,
      "outputs": [
        {
          "output_type": "execute_result",
          "data": {
            "text/plain": [
              "{'json-ld': [{'@context': 'https://schema.org/',\n",
              "   '@type': 'WebSite',\n",
              "   'name': 'My 1st Years',\n",
              "   'potentialAction': {'@type': 'SearchAction',\n",
              "    'query-input': 'required name=search_term_string',\n",
              "    'target': 'https://www.my1styears.com/catalogsearch/result/?q={search_term_string}'},\n",
              "   'url': 'https://www.my1styears.com/'}],\n",
              " 'microdata': [{'@context': 'http://schema.org',\n",
              "   '@type': 'Product',\n",
              "   'image': 'https://cdn.my1styears.com/media/catalog/product/cache/d8e9c4df3ed3fb9e8c3721796f593e45/s/e/se_50111091_new-core-bunny---grey-a.jpg',\n",
              "   'name': 'Personalised Light Grey Bunny Soft Toy',\n",
              "   'offers': {'@type': 'Offer', 'price': '28', 'priceCurrency': 'GBP'},\n",
              "   'sku': 'SE_MFY5001S'}],\n",
              " 'opengraph': [{'@context': {'fb': 'http://ogp.me/ns/fb#',\n",
              "    'og': 'http://ogp.me/ns#',\n",
              "    'product': 'http://ogp.me/ns/product#'},\n",
              "   '@type': 'product',\n",
              "   'og:description': '...',\n",
              "   'og:image': 'https://cdn.my1styears.com/media/catalog/product/cache/0521aff7518f3552a798ff9cfed7f306/s/e/se_50111091_new-core-bunny---grey-a.jpg',\n",
              "   'og:title': 'Personalised Light Grey Bunny Soft Toy',\n",
              "   'og:url': 'https://www.my1styears.com/personalised-grey-bunny-soft-toy.html',\n",
              "   'product:price:amount': '28',\n",
              "   'product:price:currency': 'GBP'}],\n",
              " 'rdfa': [{'@id': 'https://www.my1styears.com/personalised-grey-bunny-soft-toy.html#block-upsell-heading',\n",
              "   'http://www.w3.org/1999/xhtml/vocab#role': [{'@id': 'http://www.w3.org/1999/xhtml/vocab#heading'}]},\n",
              "  {'@id': '_:N213f6901c1f94723892811f55e772cc7',\n",
              "   'http://www.w3.org/1999/xhtml/vocab#role': [{'@id': 'http://www.w3.org/1999/xhtml/vocab#alert'}]},\n",
              "  {'@id': '_:N538b06ff592842bc9c9f33f4900d264f',\n",
              "   'http://www.w3.org/1999/xhtml/vocab#role': [{'@id': 'http://www.w3.org/1999/xhtml/vocab#alert'}]},\n",
              "  {'@id': '_:N8595731ca9ec400bae47231c15774830',\n",
              "   'http://www.w3.org/1999/xhtml/vocab#role': [{'@id': 'http://www.w3.org/1999/xhtml/vocab#heading'}]},\n",
              "  {'@id': 'https://www.my1styears.com/personalised-grey-bunny-soft-toy.html',\n",
              "   'http://ogp.me/ns#description': [{'@value': '...'}],\n",
              "   'http://ogp.me/ns#image': [{'@value': 'https://cdn.my1styears.com/media/catalog/product/cache/0521aff7518f3552a798ff9cfed7f306/s/e/se_50111091_new-core-bunny---grey-a.jpg'}],\n",
              "   'http://ogp.me/ns#title': [{'@value': 'Personalised Light Grey Bunny Soft Toy'}],\n",
              "   'http://ogp.me/ns#type': [{'@value': 'product'}],\n",
              "   'http://ogp.me/ns#url': [{'@value': 'https://www.my1styears.com/personalised-grey-bunny-soft-toy.html'}],\n",
              "   'http://ogp.me/ns/product#price:amount': [{'@value': '28'}],\n",
              "   'http://ogp.me/ns/product#price:currency': [{'@value': 'GBP'}]}]}"
            ]
          },
          "metadata": {},
          "execution_count": 13
        }
      ]
    },
    {
      "cell_type": "code",
      "source": [
        "df_specific = pd.DataFrame(columns = ['url', \n",
        "                                      'organization-json-ld', \n",
        "                                      'organization-microdata',                                   \n",
        "                                      'product-json-ld', \n",
        "                                      'product-microdata',                  \n",
        "                                      'offer-json-ld', \n",
        "                                      'offer-microdata',     \n",
        "                                      'review-json-ld', \n",
        "                                      'review-microdata',   \n",
        "                                      'aggregaterating-json-ld', \n",
        "                                      'aggregaterating-microdata',   \n",
        "                                      'breadcrumblist-json-ld', \n",
        "                                      'breadcrumblist-microdata',            \n",
        "                                     ])\n",
        "\n",
        "for url in sites:    \n",
        "    metadata = extract_metadata(url)\n",
        "    urldata = urlparse(url)\n",
        "\n",
        "\n",
        "    row = {\n",
        "        'url': urldata.netloc, \n",
        "        'organization-json-ld': key_exists(metadata['json-ld'], 'Organization'),\n",
        "        'organization-microdata': key_exists(metadata['microdata'], 'Organization'),\n",
        "        'product-json-ld': key_exists(metadata['json-ld'], 'Product'),\n",
        "        'product-microdata': key_exists(metadata['microdata'], 'Product'),\n",
        "        'offer-json-ld': key_exists(metadata['json-ld'], 'Offer'),\n",
        "        'offer-microdata': key_exists(metadata['microdata'], 'Offer'),\n",
        "        'review-json-ld': key_exists(metadata['json-ld'], 'Review'),\n",
        "        'review-microdata': key_exists(metadata['microdata'], 'Review'),\n",
        "        'aggregaterating-json-ld': key_exists(metadata['json-ld'], 'AggregateRating'),\n",
        "        'aggregaterating-microdata': key_exists(metadata['microdata'], 'AggregateRating'),\n",
        "        'breadcrumblist-json-ld': key_exists(metadata['json-ld'], 'BreadcrumbList'),\n",
        "        'breadcrumblist-microdata': key_exists(metadata['microdata'], 'BreadcrumbList'),\n",
        "    }\n",
        "\n",
        "    df_specific = df_specific.append(row, ignore_index=True)\n",
        "\n",
        "df_specific.sort_values(by='url', ascending=False).head(3).T\n"
      ],
      "metadata": {
        "colab": {
          "base_uri": "https://localhost:8080/",
          "height": 457
        },
        "id": "QFBTgPaLI-BK",
        "outputId": "f6f53dec-415e-4cc1-f00c-1fc9e5f5c1cb"
      },
      "execution_count": null,
      "outputs": [
        {
          "output_type": "execute_result",
          "data": {
            "text/plain": [
              "                                            0                   1  \\\n",
              "url                        www.my1styears.com  www.my1styears.com   \n",
              "organization-json-ld                    False               False   \n",
              "organization-microdata                  False               False   \n",
              "product-json-ld                         False               False   \n",
              "product-microdata                        True                True   \n",
              "offer-json-ld                           False               False   \n",
              "offer-microdata                         False               False   \n",
              "review-json-ld                          False               False   \n",
              "review-microdata                        False               False   \n",
              "aggregaterating-json-ld                 False               False   \n",
              "aggregaterating-microdata               False               False   \n",
              "breadcrumblist-json-ld                  False               False   \n",
              "breadcrumblist-microdata                False               False   \n",
              "\n",
              "                                            2  \n",
              "url                        www.my1styears.com  \n",
              "organization-json-ld                    False  \n",
              "organization-microdata                  False  \n",
              "product-json-ld                         False  \n",
              "product-microdata                        True  \n",
              "offer-json-ld                           False  \n",
              "offer-microdata                         False  \n",
              "review-json-ld                          False  \n",
              "review-microdata                        False  \n",
              "aggregaterating-json-ld                 False  \n",
              "aggregaterating-microdata               False  \n",
              "breadcrumblist-json-ld                  False  \n",
              "breadcrumblist-microdata                False  "
            ],
            "text/html": [
              "\n",
              "  <div id=\"df-55f8dfc8-cb94-4ebf-b80a-e23d6d41ce31\">\n",
              "    <div class=\"colab-df-container\">\n",
              "      <div>\n",
              "<style scoped>\n",
              "    .dataframe tbody tr th:only-of-type {\n",
              "        vertical-align: middle;\n",
              "    }\n",
              "\n",
              "    .dataframe tbody tr th {\n",
              "        vertical-align: top;\n",
              "    }\n",
              "\n",
              "    .dataframe thead th {\n",
              "        text-align: right;\n",
              "    }\n",
              "</style>\n",
              "<table border=\"1\" class=\"dataframe\">\n",
              "  <thead>\n",
              "    <tr style=\"text-align: right;\">\n",
              "      <th></th>\n",
              "      <th>0</th>\n",
              "      <th>1</th>\n",
              "      <th>2</th>\n",
              "    </tr>\n",
              "  </thead>\n",
              "  <tbody>\n",
              "    <tr>\n",
              "      <th>url</th>\n",
              "      <td>www.my1styears.com</td>\n",
              "      <td>www.my1styears.com</td>\n",
              "      <td>www.my1styears.com</td>\n",
              "    </tr>\n",
              "    <tr>\n",
              "      <th>organization-json-ld</th>\n",
              "      <td>False</td>\n",
              "      <td>False</td>\n",
              "      <td>False</td>\n",
              "    </tr>\n",
              "    <tr>\n",
              "      <th>organization-microdata</th>\n",
              "      <td>False</td>\n",
              "      <td>False</td>\n",
              "      <td>False</td>\n",
              "    </tr>\n",
              "    <tr>\n",
              "      <th>product-json-ld</th>\n",
              "      <td>False</td>\n",
              "      <td>False</td>\n",
              "      <td>False</td>\n",
              "    </tr>\n",
              "    <tr>\n",
              "      <th>product-microdata</th>\n",
              "      <td>True</td>\n",
              "      <td>True</td>\n",
              "      <td>True</td>\n",
              "    </tr>\n",
              "    <tr>\n",
              "      <th>offer-json-ld</th>\n",
              "      <td>False</td>\n",
              "      <td>False</td>\n",
              "      <td>False</td>\n",
              "    </tr>\n",
              "    <tr>\n",
              "      <th>offer-microdata</th>\n",
              "      <td>False</td>\n",
              "      <td>False</td>\n",
              "      <td>False</td>\n",
              "    </tr>\n",
              "    <tr>\n",
              "      <th>review-json-ld</th>\n",
              "      <td>False</td>\n",
              "      <td>False</td>\n",
              "      <td>False</td>\n",
              "    </tr>\n",
              "    <tr>\n",
              "      <th>review-microdata</th>\n",
              "      <td>False</td>\n",
              "      <td>False</td>\n",
              "      <td>False</td>\n",
              "    </tr>\n",
              "    <tr>\n",
              "      <th>aggregaterating-json-ld</th>\n",
              "      <td>False</td>\n",
              "      <td>False</td>\n",
              "      <td>False</td>\n",
              "    </tr>\n",
              "    <tr>\n",
              "      <th>aggregaterating-microdata</th>\n",
              "      <td>False</td>\n",
              "      <td>False</td>\n",
              "      <td>False</td>\n",
              "    </tr>\n",
              "    <tr>\n",
              "      <th>breadcrumblist-json-ld</th>\n",
              "      <td>False</td>\n",
              "      <td>False</td>\n",
              "      <td>False</td>\n",
              "    </tr>\n",
              "    <tr>\n",
              "      <th>breadcrumblist-microdata</th>\n",
              "      <td>False</td>\n",
              "      <td>False</td>\n",
              "      <td>False</td>\n",
              "    </tr>\n",
              "  </tbody>\n",
              "</table>\n",
              "</div>\n",
              "      <button class=\"colab-df-convert\" onclick=\"convertToInteractive('df-55f8dfc8-cb94-4ebf-b80a-e23d6d41ce31')\"\n",
              "              title=\"Convert this dataframe to an interactive table.\"\n",
              "              style=\"display:none;\">\n",
              "        \n",
              "  <svg xmlns=\"http://www.w3.org/2000/svg\" height=\"24px\"viewBox=\"0 0 24 24\"\n",
              "       width=\"24px\">\n",
              "    <path d=\"M0 0h24v24H0V0z\" fill=\"none\"/>\n",
              "    <path d=\"M18.56 5.44l.94 2.06.94-2.06 2.06-.94-2.06-.94-.94-2.06-.94 2.06-2.06.94zm-11 1L8.5 8.5l.94-2.06 2.06-.94-2.06-.94L8.5 2.5l-.94 2.06-2.06.94zm10 10l.94 2.06.94-2.06 2.06-.94-2.06-.94-.94-2.06-.94 2.06-2.06.94z\"/><path d=\"M17.41 7.96l-1.37-1.37c-.4-.4-.92-.59-1.43-.59-.52 0-1.04.2-1.43.59L10.3 9.45l-7.72 7.72c-.78.78-.78 2.05 0 2.83L4 21.41c.39.39.9.59 1.41.59.51 0 1.02-.2 1.41-.59l7.78-7.78 2.81-2.81c.8-.78.8-2.07 0-2.86zM5.41 20L4 18.59l7.72-7.72 1.47 1.35L5.41 20z\"/>\n",
              "  </svg>\n",
              "      </button>\n",
              "      \n",
              "  <style>\n",
              "    .colab-df-container {\n",
              "      display:flex;\n",
              "      flex-wrap:wrap;\n",
              "      gap: 12px;\n",
              "    }\n",
              "\n",
              "    .colab-df-convert {\n",
              "      background-color: #E8F0FE;\n",
              "      border: none;\n",
              "      border-radius: 50%;\n",
              "      cursor: pointer;\n",
              "      display: none;\n",
              "      fill: #1967D2;\n",
              "      height: 32px;\n",
              "      padding: 0 0 0 0;\n",
              "      width: 32px;\n",
              "    }\n",
              "\n",
              "    .colab-df-convert:hover {\n",
              "      background-color: #E2EBFA;\n",
              "      box-shadow: 0px 1px 2px rgba(60, 64, 67, 0.3), 0px 1px 3px 1px rgba(60, 64, 67, 0.15);\n",
              "      fill: #174EA6;\n",
              "    }\n",
              "\n",
              "    [theme=dark] .colab-df-convert {\n",
              "      background-color: #3B4455;\n",
              "      fill: #D2E3FC;\n",
              "    }\n",
              "\n",
              "    [theme=dark] .colab-df-convert:hover {\n",
              "      background-color: #434B5C;\n",
              "      box-shadow: 0px 1px 3px 1px rgba(0, 0, 0, 0.15);\n",
              "      filter: drop-shadow(0px 1px 2px rgba(0, 0, 0, 0.3));\n",
              "      fill: #FFFFFF;\n",
              "    }\n",
              "  </style>\n",
              "\n",
              "      <script>\n",
              "        const buttonEl =\n",
              "          document.querySelector('#df-55f8dfc8-cb94-4ebf-b80a-e23d6d41ce31 button.colab-df-convert');\n",
              "        buttonEl.style.display =\n",
              "          google.colab.kernel.accessAllowed ? 'block' : 'none';\n",
              "\n",
              "        async function convertToInteractive(key) {\n",
              "          const element = document.querySelector('#df-55f8dfc8-cb94-4ebf-b80a-e23d6d41ce31');\n",
              "          const dataTable =\n",
              "            await google.colab.kernel.invokeFunction('convertToInteractive',\n",
              "                                                     [key], {});\n",
              "          if (!dataTable) return;\n",
              "\n",
              "          const docLinkHtml = 'Like what you see? Visit the ' +\n",
              "            '<a target=\"_blank\" href=https://colab.research.google.com/notebooks/data_table.ipynb>data table notebook</a>'\n",
              "            + ' to learn more about interactive tables.';\n",
              "          element.innerHTML = '';\n",
              "          dataTable['output_type'] = 'display_data';\n",
              "          await google.colab.output.renderOutput(dataTable, element);\n",
              "          const docLink = document.createElement('div');\n",
              "          docLink.innerHTML = docLinkHtml;\n",
              "          element.appendChild(docLink);\n",
              "        }\n",
              "      </script>\n",
              "    </div>\n",
              "  </div>\n",
              "  "
            ]
          },
          "metadata": {},
          "execution_count": 14
        }
      ]
    }
  ]
}